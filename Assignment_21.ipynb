{
 "cells": [
  {
   "cell_type": "markdown",
   "id": "91a8af68",
   "metadata": {},
   "source": [
    "# 1. Add the current date to the text file today.txt as a string."
   ]
  },
  {
   "cell_type": "code",
   "execution_count": 6,
   "id": "7e0aef66",
   "metadata": {},
   "outputs": [],
   "source": [
    "from datetime import date\n",
    "today=date.today()\n",
    "cur_date = today.isoformat()\n",
    "cur_date\n",
    "with open('today.txt','w') as file:\n",
    "    file.write(cur_date)"
   ]
  },
  {
   "cell_type": "markdown",
   "id": "b479cd8a",
   "metadata": {},
   "source": [
    "# 2. Read the text file today.txt into the string today_string"
   ]
  },
  {
   "cell_type": "code",
   "execution_count": 8,
   "id": "4e658d2c",
   "metadata": {},
   "outputs": [
    {
     "name": "stdout",
     "output_type": "stream",
     "text": [
      "2022-01-22\n"
     ]
    }
   ],
   "source": [
    "with open('today.txt', 'r') as file:\n",
    "    today_string = file.read()\n",
    "print(today_string)"
   ]
  },
  {
   "cell_type": "markdown",
   "id": "6f2863da",
   "metadata": {},
   "source": [
    "# 3. Parse the date from today_string."
   ]
  },
  {
   "cell_type": "code",
   "execution_count": 9,
   "id": "a92e80bd",
   "metadata": {},
   "outputs": [
    {
     "data": {
      "text/plain": [
       "datetime.datetime(2022, 1, 22, 0, 0)"
      ]
     },
     "execution_count": 9,
     "metadata": {},
     "output_type": "execute_result"
    }
   ],
   "source": [
    "from datetime import datetime\n",
    "format = '%Y-%m-%d'\n",
    "datetime.strptime(today_string,format)"
   ]
  },
  {
   "cell_type": "markdown",
   "id": "6a67bdb5",
   "metadata": {},
   "source": [
    "# 4. List the files in your current directory"
   ]
  },
  {
   "cell_type": "code",
   "execution_count": 1,
   "id": "4d6e1648",
   "metadata": {},
   "outputs": [
    {
     "data": {
      "text/plain": [
       "['.ipynb_checkpoints', 'Assignment_21.ipynb', 'today.txt', 'Untitled.ipynb']"
      ]
     },
     "execution_count": 1,
     "metadata": {},
     "output_type": "execute_result"
    }
   ],
   "source": [
    "import os\n",
    "os.listdir('.')"
   ]
  },
  {
   "cell_type": "markdown",
   "id": "0c73c159",
   "metadata": {},
   "source": [
    "# 5. Create a list of all of the files in your parent directory (minimum five files should be available)."
   ]
  },
  {
   "cell_type": "code",
   "execution_count": 2,
   "id": "5f7be1f3",
   "metadata": {},
   "outputs": [
    {
     "data": {
      "text/plain": [
       "['.ipynb_checkpoints',\n",
       " '.ipython',\n",
       " '.jupyter',\n",
       " '.vscode',\n",
       " '3D Objects',\n",
       " 'AppData',\n",
       " 'Application Data',\n",
       " 'Assignment_19.ipynb',\n",
       " 'Assignment_20.ipynb',\n",
       " 'BasicAssignments',\n",
       " 'books.csv',\n",
       " 'books.db',\n",
       " 'Contacts',\n",
       " 'Cookies',\n",
       " 'Desktop',\n",
       " 'Documents',\n",
       " 'Downloads',\n",
       " 'Favorites',\n",
       " 'IntelGraphicsProfiles',\n",
       " 'Links',\n",
       " 'Local Settings',\n",
       " 'MicrosoftEdgeBackups',\n",
       " 'Music',\n",
       " 'My Documents',\n",
       " 'NetHood',\n",
       " 'NTUSER.DAT',\n",
       " 'ntuser.dat.LOG1',\n",
       " 'ntuser.dat.LOG2',\n",
       " 'NTUSER.DAT{fd9a35db-49fe-11e9-aa2c-248a07783950}.TM.blf',\n",
       " 'NTUSER.DAT{fd9a35db-49fe-11e9-aa2c-248a07783950}.TMContainer00000000000000000001.regtrans-ms',\n",
       " 'NTUSER.DAT{fd9a35db-49fe-11e9-aa2c-248a07783950}.TMContainer00000000000000000002.regtrans-ms',\n",
       " 'ntuser.ini',\n",
       " 'Pictures',\n",
       " 'PrintHood',\n",
       " 'Recent',\n",
       " 'Saved Games',\n",
       " 'Searches',\n",
       " 'SendTo',\n",
       " 'Start Menu',\n",
       " 'Templates',\n",
       " 'test.txt',\n",
       " 'Untitled.ipynb',\n",
       " 'Untitled1.ipynb',\n",
       " 'Videos',\n",
       " 'zoo.ipynb']"
      ]
     },
     "execution_count": 2,
     "metadata": {},
     "output_type": "execute_result"
    }
   ],
   "source": [
    "os.listdir('..')"
   ]
  },
  {
   "cell_type": "markdown",
   "id": "eeb24872",
   "metadata": {},
   "source": [
    "# 6. Use multiprocessing to create three separate processes. Make each one wait a random number of seconds between one and five, print the current time, and then exit."
   ]
  },
  {
   "cell_type": "code",
   "execution_count": 13,
   "id": "173e7e85",
   "metadata": {},
   "outputs": [],
   "source": [
    "import multiprocessing\n",
    "\n",
    "def printsec(seconds):\n",
    "    from datetime import datetime\n",
    "    from time import sleep\n",
    "    sleep(seconds)\n",
    "    print('wait', seconds, 'seconds, time is', datetime.utcnow())\n",
    "    \n",
    "if __name__ == '__main__':\n",
    "    import random    \n",
    "    for n in range(3):\n",
    "        seconds = random.random()\n",
    "        proc = multiprocessing.Process(target=printsec, args=(seconds,))\n",
    "        proc.start()"
   ]
  },
  {
   "cell_type": "code",
   "execution_count": null,
   "id": "e6b1383c",
   "metadata": {},
   "outputs": [],
   "source": [
    "!multi.py"
   ]
  },
  {
   "cell_type": "code",
   "execution_count": null,
   "id": "0549cc4f",
   "metadata": {},
   "outputs": [],
   "source": [
    "wait 0.25700114370511584 seconds, time is 2021-05-04 11:11:22.606700\n",
    "wait 0.6398316226840549 seconds, time is 2021-05-04 11:11:22.978403\n",
    "wait 0.7806718758267396 seconds, time is 2021-05-04 11:11:23.119607"
   ]
  },
  {
   "cell_type": "markdown",
   "id": "f21277c7",
   "metadata": {},
   "source": [
    "# 7. Create a date object of your day of birth."
   ]
  },
  {
   "cell_type": "code",
   "execution_count": 8,
   "id": "8722466e",
   "metadata": {},
   "outputs": [
    {
     "data": {
      "text/plain": [
       "datetime.date(1998, 8, 16)"
      ]
     },
     "execution_count": 8,
     "metadata": {},
     "output_type": "execute_result"
    }
   ],
   "source": [
    "from datetime import date\n",
    "date_of_birth = date(1998,8,16)\n",
    "date_of_birth"
   ]
  },
  {
   "cell_type": "markdown",
   "id": "68f377e0",
   "metadata": {},
   "source": [
    "# 8. What day of the week was your day of birth?"
   ]
  },
  {
   "cell_type": "code",
   "execution_count": 9,
   "id": "bcd1f87d",
   "metadata": {},
   "outputs": [
    {
     "data": {
      "text/plain": [
       "6"
      ]
     },
     "execution_count": 9,
     "metadata": {},
     "output_type": "execute_result"
    }
   ],
   "source": [
    "date_of_birth.weekday()"
   ]
  },
  {
   "cell_type": "markdown",
   "id": "a2295c4d",
   "metadata": {},
   "source": [
    "# 9. When will you be (or when were you) 10,000 days old?"
   ]
  },
  {
   "cell_type": "code",
   "execution_count": 11,
   "id": "48cc7c24",
   "metadata": {},
   "outputs": [
    {
     "data": {
      "text/plain": [
       "datetime.date(2026, 1, 1)"
      ]
     },
     "execution_count": 11,
     "metadata": {},
     "output_type": "execute_result"
    }
   ],
   "source": [
    "from datetime import timedelta\n",
    "day10000 = date_of_birth + timedelta(days=10000)\n",
    "day10000"
   ]
  },
  {
   "cell_type": "code",
   "execution_count": null,
   "id": "c702e868",
   "metadata": {},
   "outputs": [],
   "source": []
  }
 ],
 "metadata": {
  "kernelspec": {
   "display_name": "Python 3 (ipykernel)",
   "language": "python",
   "name": "python3"
  },
  "language_info": {
   "codemirror_mode": {
    "name": "ipython",
    "version": 3
   },
   "file_extension": ".py",
   "mimetype": "text/x-python",
   "name": "python",
   "nbconvert_exporter": "python",
   "pygments_lexer": "ipython3",
   "version": "3.9.7"
  }
 },
 "nbformat": 4,
 "nbformat_minor": 5
}
